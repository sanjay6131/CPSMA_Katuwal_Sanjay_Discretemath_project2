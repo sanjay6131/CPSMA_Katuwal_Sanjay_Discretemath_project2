{
  "nbformat": 4,
  "nbformat_minor": 0,
  "metadata": {
    "colab": {
      "name": "saurav_project2.ipynb",
      "provenance": [],
      "include_colab_link": true
    },
    "kernelspec": {
      "name": "python3",
      "display_name": "Python 3"
    },
    "language_info": {
      "name": "python"
    }
  },
  "cells": [
    {
      "cell_type": "markdown",
      "metadata": {
        "id": "view-in-github",
        "colab_type": "text"
      },
      "source": [
        "<a href=\"https://colab.research.google.com/github/sanjay6131/CPSMA_Katuwal_Sanjay_Discretemath_project2/blob/main/saurav_project2.ipynb\" target=\"_parent\"><img src=\"https://colab.research.google.com/assets/colab-badge.svg\" alt=\"Open In Colab\"/></a>"
      ]
    },
    {
      "cell_type": "markdown",
      "source": [
        "#   Project 2 - Discrete Mathematics [CPSMA_3913]\n",
        "\n",
        "##  Relations and Functions\n",
        "\n",
        "##  Dr. Jacob\n",
        "\n",
        "## Saurav Chaudhary"
      ],
      "metadata": {
        "id": "z8ZLCiAEocZU"
      }
    },
    {
      "cell_type": "markdown",
      "source": [
        "#Function \n",
        "\n",
        "For this project, I am going to use the mentioned function. \n",
        "\n",
        "\n",
        "Mathematically, \n",
        "$$\n",
        "f(x) = \\frac{10x}{ {2\\pi}} e^{-^x}\n",
        "$$\n",
        "\n"
      ],
      "metadata": {
        "id": "x_NPwUIpjvEI"
      }
    },
    {
      "cell_type": "code",
      "source": [
        "import math\n",
        "import numpy as np\n",
        "\n",
        "def funct(x):\n",
        " return (10 * x/( (2*math.pi))*np.e**(-x))"
      ],
      "metadata": {
        "id": "Z8w6Pm1imOOx"
      },
      "execution_count": null,
      "outputs": []
    },
    {
      "cell_type": "code",
      "source": [
        "funct(5)"
      ],
      "metadata": {
        "colab": {
          "base_uri": "https://localhost:8080/"
        },
        "id": "r6wPqZ-7ncb_",
        "outputId": "72526d0c-8ba7-46fd-b2d0-d593c7c42769"
      },
      "execution_count": null,
      "outputs": [
        {
          "output_type": "execute_result",
          "data": {
            "text/plain": [
              "0.053618878559782736"
            ]
          },
          "metadata": {},
          "execution_count": 2
        }
      ]
    },
    {
      "cell_type": "markdown",
      "source": [
        "#Graph"
      ],
      "metadata": {
        "id": "ebaO8d2adjs2"
      }
    },
    {
      "cell_type": "code",
      "source": [
        "import matplotlib.pyplot as plt\n",
        "\n",
        "x = np.arange(1,10,.1) \n",
        "plt.plot(x,funct(x))"
      ],
      "metadata": {
        "colab": {
          "base_uri": "https://localhost:8080/",
          "height": 282
        },
        "id": "Q_iMlOAMnkGT",
        "outputId": "9e8022e7-5787-4a07-b03c-d043af81e325"
      },
      "execution_count": null,
      "outputs": [
        {
          "output_type": "execute_result",
          "data": {
            "text/plain": [
              "[<matplotlib.lines.Line2D at 0x7f7aba08e090>]"
            ]
          },
          "metadata": {},
          "execution_count": 15
        },
        {
          "output_type": "display_data",
          "data": {
            "image/png": "[encoded data removed]",
            "text/plain": [
              "<Figure size 432x288 with 1 Axes>"
            ]
          },
          "metadata": {
            "needs_background": "light"
          }
        }
      ]
    },
    {
      "cell_type": "markdown",
      "source": [
        "#Dictionary\n"
      ],
      "metadata": {
        "id": "ifz2X4o7kMlb"
      }
    },
    {
      "cell_type": "code",
      "source": [
        "A = ['Jason','Kishan','Matthew','Han','Maya']\n",
        "\n",
        "B = ['Shelby','Jack','Han','Kishan','Wendy']\n",
        "\n",
        "\n",
        "dictionary = dict({A:B for A,B in zip(A,B)})"
      ],
      "metadata": {
        "id": "SteBJOE9dy5L"
      },
      "execution_count": 19,
      "outputs": []
    },
    {
      "cell_type": "code",
      "source": [
        "dictionary\n"
      ],
      "metadata": {
        "colab": {
          "base_uri": "https://localhost:8080/"
        },
        "id": "PcXeIPxRd5CW",
        "outputId": "c163b981-4966-4b05-e0c7-2de03262c073"
      },
      "execution_count": 20,
      "outputs": [
        {
          "output_type": "execute_result",
          "data": {
            "text/plain": [
              "{'Han': 'Kishan',\n",
              " 'Jason': 'Shelby',\n",
              " 'Kishan': 'Jack',\n",
              " 'Matthew': 'Han',\n",
              " 'Maya': 'Wendy'}"
            ]
          },
          "metadata": {},
          "execution_count": 20
        }
      ]
    },
    {
      "cell_type": "code",
      "source": [
        "realdictionary = dict({'Han':'Jack','Kishan':'Maya','Jason':'Jack'})\n",
        "\n"
      ],
      "metadata": {
        "id": "L8NwBuNad9W4"
      },
      "execution_count": 21,
      "outputs": []
    },
    {
      "cell_type": "code",
      "source": [
        "updateddictionary = [realdictionary.get(x,x) for x in A]"
      ],
      "metadata": {
        "id": "69v286OkeDjI"
      },
      "execution_count": 22,
      "outputs": []
    },
    {
      "cell_type": "code",
      "source": [
        "updateddictionary"
      ],
      "metadata": {
        "colab": {
          "base_uri": "https://localhost:8080/"
        },
        "id": "4HzO9EEzeH9k",
        "outputId": "e5d43234-26fe-4b5a-fa9b-21d7ef767e15"
      },
      "execution_count": 23,
      "outputs": [
        {
          "output_type": "execute_result",
          "data": {
            "text/plain": [
              "['Jack', 'Maya', 'Matthew', 'Jack', 'Maya']"
            ]
          },
          "metadata": {},
          "execution_count": 23
        }
      ]
    },
    {
      "cell_type": "code",
      "source": [
        "Numberofelements = len(updateddictionary)"
      ],
      "metadata": {
        "id": "xRXjGVOyQLO9"
      },
      "execution_count": 24,
      "outputs": []
    },
    {
      "cell_type": "code",
      "source": [
        "2**Numberofelements"
      ],
      "metadata": {
        "colab": {
          "base_uri": "https://localhost:8080/"
        },
        "id": "McjRwY8SQda_",
        "outputId": "5b7bb1f1-7db5-4fc6-ba74-4a567aed1b10"
      },
      "execution_count": 25,
      "outputs": [
        {
          "output_type": "execute_result",
          "data": {
            "text/plain": [
              "32"
            ]
          },
          "metadata": {},
          "execution_count": 25
        }
      ]
    },
    {
      "cell_type": "markdown",
      "source": [
        "So, there are 32 elements in the set."
      ],
      "metadata": {
        "id": "tGvy19I2SNLM"
      }
    },
    {
      "cell_type": "markdown",
      "source": [
        "My set of function in not onto function so there is no way it can be bijective. This is not one-to-one function either.\n",
        "This function cannot be reflexive as no elements can be same on the co-domain. Its not symmetric nor transitive. To make this sets transitive we have to change the elements on domain and as well as co-domain.\n",
        "The choosen set was nowhere to be equivalence set."
      ],
      "metadata": {
        "id": "noO3guC5eWGg"
      }
    },
    {
      "cell_type": "markdown",
      "source": [
        "# Findings\n",
        "\n",
        "Honestly, I was kind of confused which sets to compare. I was not happy about this elsewise i was satisfied."
      ],
      "metadata": {
        "id": "9KivY4EpeYeg"
      }
    }
  ]
}