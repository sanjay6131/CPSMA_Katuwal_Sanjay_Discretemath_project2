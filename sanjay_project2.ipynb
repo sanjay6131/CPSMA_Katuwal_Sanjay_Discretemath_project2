{
  "nbformat": 4,
  "nbformat_minor": 0,
  "metadata": {
    "colab": {
      "name": "sanjay_project2.ipynb",
      "provenance": [],
      "collapsed_sections": [],
      "include_colab_link": true
    },
    "kernelspec": {
      "name": "python3",
      "display_name": "Python 3"
    },
    "language_info": {
      "name": "python"
    }
  },
  "cells": [
    {
      "cell_type": "markdown",
      "metadata": {
        "id": "view-in-github",
        "colab_type": "text"
      },
      "source": [
        "<a href=\"https://colab.research.google.com/github/sanjay6131/CPSMA_Katuwal_Sanjay_Discretemath_project2/blob/main/sanjay_project2.ipynb\" target=\"_parent\"><img src=\"https://colab.research.google.com/assets/colab-badge.svg\" alt=\"Open In Colab\"/></a>"
      ]
    },
    {
      "cell_type": "markdown",
      "source": [
        "# Discrete Mathematics [CMPSC - 3913-01]\n",
        "\n",
        "##Project : Functions and Relations\n",
        "\n",
        "### Dr. Jacob\n",
        "\n",
        "### Sanjay Katuwal\n"
      ],
      "metadata": {
        "id": "TQUcacq68Ulf"
      }
    },
    {
      "cell_type": "markdown",
      "source": [
        "# Function\n",
        "\n"
      ],
      "metadata": {
        "id": "pIYBKole1dLr"
      }
    },
    {
      "cell_type": "markdown",
      "source": [
        "I am using the given function: \n",
        "$$\n",
        "f(x) = \\frac{{x}^2}{ {\\pi}} e^{^2{^x}}\n",
        "$$"
      ],
      "metadata": {
        "id": "DRtGb3E61jAI"
      }
    },
    {
      "cell_type": "code",
      "source": [
        "import math\n",
        "import numpy as np\n",
        "\n",
        "def galaxy(x):\n",
        " return x**2/( (math.pi))*np.e**(2*x)"
      ],
      "metadata": {
        "id": "YXNsyBdG1xBu"
      },
      "execution_count": 1,
      "outputs": []
    },
    {
      "cell_type": "code",
      "source": [
        "galaxy(1)"
      ],
      "metadata": {
        "colab": {
          "base_uri": "https://localhost:8080/"
        },
        "id": "_MVd-akh3ODF",
        "outputId": "373b9737-3d35-484f-dd20-0f8b0f41ccc6"
      },
      "execution_count": 2,
      "outputs": [
        {
          "output_type": "execute_result",
          "data": {
            "text/plain": [
              "2.3520096058562596"
            ]
          },
          "metadata": {},
          "execution_count": 2
        }
      ]
    },
    {
      "cell_type": "markdown",
      "source": [
        "#GRAPH"
      ],
      "metadata": {
        "id": "EVpc0Pxy4DUs"
      }
    },
    {
      "cell_type": "code",
      "source": [
        "import matplotlib.pyplot as plt\n",
        "\n",
        "x = np.arange(-5,10,.1) \n",
        "plt.plot(x,galaxy(x))"
      ],
      "metadata": {
        "colab": {
          "base_uri": "https://localhost:8080/",
          "height": 293
        },
        "id": "cazezoMO4FLc",
        "outputId": "1c3f3093-20f2-4094-a138-1cdb647e4307"
      },
      "execution_count": 3,
      "outputs": [
        {
          "output_type": "execute_result",
          "data": {
            "text/plain": [
              "[<matplotlib.lines.Line2D at 0x7f8d0962ce10>]"
            ]
          },
          "metadata": {},
          "execution_count": 3
        },
        {
          "output_type": "display_data",
          "data": {
            "image/png": "[encoded data removed]",
            "text/plain": [
              "<Figure size 432x288 with 1 Axes>"
            ]
          },
          "metadata": {
            "needs_background": "light"
          }
        }
      ]
    },
    {
      "cell_type": "markdown",
      "source": [
        "#DICTIONARY\n"
      ],
      "metadata": {
        "id": "jR43zoxv4Oza"
      }
    },
    {
      "cell_type": "markdown",
      "source": [
        "My set P consists of first five prime numbers  and set D consists of first five numbers divisible by 3."
      ],
      "metadata": {
        "id": "p6Jsk7Q_6JzZ"
      }
    },
    {
      "cell_type": "code",
      "source": [
        "P = ['two', 'three', 'five', 'seven', 'eleven']\n",
        "D = ['three', 'six', 'nine', 'twelve', 'fifteen']\n",
        "dictionary = dict({P:D for P,D in zip(P,D)})\n",
        "\n",
        "dictionary"
      ],
      "metadata": {
        "colab": {
          "base_uri": "https://localhost:8080/"
        },
        "id": "v8F2HW3M4dwM",
        "outputId": "be6eb0a8-72d1-4486-d1ac-772f9a0cdd78"
      },
      "execution_count": 6,
      "outputs": [
        {
          "output_type": "execute_result",
          "data": {
            "text/plain": [
              "{'eleven': 'fifteen',\n",
              " 'five': 'nine',\n",
              " 'seven': 'twelve',\n",
              " 'three': 'six',\n",
              " 'two': 'three'}"
            ]
          },
          "metadata": {},
          "execution_count": 6
        }
      ]
    },
    {
      "cell_type": "markdown",
      "source": [
        "In this part of the project, O consists of first five odd numbers. "
      ],
      "metadata": {
        "id": "d_KmPKv3_WKE"
      }
    },
    {
      "cell_type": "code",
      "source": [
        "O = ['one','three','five','seven','nine']\n",
        "newdictionary = [dictionary.get(x,x) for x in O]\n",
        "newdictionary"
      ],
      "metadata": {
        "colab": {
          "base_uri": "https://localhost:8080/"
        },
        "id": "X_wgQIXf7gEZ",
        "outputId": "134778e0-082a-413c-e233-c311a2f7e495"
      },
      "execution_count": 7,
      "outputs": [
        {
          "output_type": "execute_result",
          "data": {
            "text/plain": [
              "['one', 'six', 'nine', 'twelve', 'nine']"
            ]
          },
          "metadata": {},
          "execution_count": 7
        }
      ]
    },
    {
      "cell_type": "markdown",
      "source": [
        "To find the number of elements we can use the same perspective that we used in earlier project."
      ],
      "metadata": {
        "id": "pHaF089PekC_"
      }
    },
    {
      "cell_type": "code",
      "source": [
        "N =len(O)"
      ],
      "metadata": {
        "id": "QaBXpuPTever"
      },
      "execution_count": 10,
      "outputs": []
    },
    {
      "cell_type": "code",
      "source": [
        "2**N"
      ],
      "metadata": {
        "colab": {
          "base_uri": "https://localhost:8080/"
        },
        "id": "d8HisRpSe81V",
        "outputId": "572d9f3c-c30c-48bd-88a7-659cb6efe98b"
      },
      "execution_count": 14,
      "outputs": [
        {
          "output_type": "execute_result",
          "data": {
            "text/plain": [
              "32"
            ]
          },
          "metadata": {},
          "execution_count": 14
        }
      ]
    },
    {
      "cell_type": "markdown",
      "source": [
        "From this we know there are 32 elements in the given set."
      ],
      "metadata": {
        "id": "GinqEd7zfa_E"
      }
    },
    {
      "cell_type": "markdown",
      "source": [
        "#Findings"
      ],
      "metadata": {
        "id": "emtG9aikfhPj"
      }
    },
    {
      "cell_type": "markdown",
      "source": [
        "After all this, the given set is not reflexive as there is no co-domain same as domain. This set was not symmetric and transitive neither. So, there is no possibility for this set to be equivalence set.\n",
        "\n",
        "This set was not one to one as some elements in domain and codomain were not related to any of element. It is not onto either so I can tell it is not bijective set. If we change some of the elements in codomain there is a possiblity to make the set onto and therefore bijective."
      ],
      "metadata": {
        "id": "dqiG5B4vfo5e"
      }
    }
  ]
}